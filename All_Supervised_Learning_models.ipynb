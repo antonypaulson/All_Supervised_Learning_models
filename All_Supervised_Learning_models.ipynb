{
 "cells": [
  {
   "cell_type": "markdown",
   "metadata": {},
   "source": [
    "## 6.01 - Supervised Learning Model Comparison\n",
    "\n",
    "Recall the \"data science process.\"\n",
    "\n",
    "1. Define the problem.\n",
    "2. Gather the data.\n",
    "3. Explore the data.\n",
    "4. Model the data.\n",
    "5. Evaluate the model.\n",
    "6. Answer the problem.\n",
    "\n",
    "In this lab, we're going to focus mostly on creating (and then comparing) many regression and classification models. Thus, we'll define the problem and gather the data for you.\n",
    "Most of the questions requiring a written response can be written in 2-3 sentences."
   ]
  },
  {
   "cell_type": "markdown",
   "metadata": {},
   "source": [
    "### Step 1: Define the problem.\n",
    "\n",
    "You are a data scientist with a financial services company. Specifically, you want to leverage data in order to identify potential customers.\n",
    "\n",
    "If you are unfamiliar with \"401(k)s\" or \"IRAs,\" these are two types of retirement accounts. Very broadly speaking:\n",
    "- You can put money for retirement into both of these accounts.\n",
    "- The money in these accounts gets invested and hopefully has a lot more money in it when you retire.\n",
    "- These are a little different from regular bank accounts in that there are certain tax benefits to these accounts. Also, employers frequently match money that you put into a 401k.\n",
    "- If you want to learn more about them, check out [this site](https://www.nerdwallet.com/article/ira-vs-401k-retirement-accounts).\n",
    "\n",
    "We will tackle one regression problem and one classification problem today.\n",
    "- Regression: What features best predict one's income?\n",
    "- Classification: Predict whether or not one is eligible for a 401k.\n",
    "\n",
    "Check out the data dictionary [here](http://fmwww.bc.edu/ec-p/data/wooldridge2k/401KSUBS.DES).\n",
    "\n",
    "### NOTE: When predicting `inc`, you should pretend as though you do not have access to the `e401k`, the `p401k` variable, and the `pira` variable. When predicting `e401k`, you may use the entire dataframe if you wish."
   ]
  },
  {
   "cell_type": "code",
   "execution_count": 1,
   "metadata": {},
   "outputs": [],
   "source": [
    "#importing all libraries\n",
    "import numpy as np\n",
    "import pandas as pd\n",
    "import matplotlib.pyplot as plt\n",
    "import seaborn as sns\n",
    "from sklearn.linear_model import LogisticRegression, LinearRegression, LassoCV, RidgeCV\n",
    "from sklearn.neighbors import KNeighborsClassifier, KNeighborsRegressor\n",
    "from sklearn.tree import DecisionTreeClassifier, ExtraTreeClassifier, DecisionTreeRegressor, ExtraTreeRegressor\n",
    "from sklearn.ensemble import RandomForestClassifier, RandomForestRegressor, AdaBoostClassifier,AdaBoostRegressor, BaggingClassifier, BaggingRegressor\n",
    "from sklearn.svm import SVR, SVC\n",
    "from sklearn.model_selection import train_test_split, cross_val_score, GridSearchCV\n",
    "from sklearn.metrics import mean_squared_error, confusion_matrix\n",
    "from sklearn import metrics"
   ]
  },
  {
   "cell_type": "markdown",
   "metadata": {},
   "source": [
    "### Step 2: Gather the data.\n",
    "\n",
    "##### 1. Read in the data from the repository."
   ]
  },
  {
   "cell_type": "code",
   "execution_count": 2,
   "metadata": {},
   "outputs": [],
   "source": [
    "#Reading in the data\n",
    "data_df = pd.read_csv('401ksubs.csv')"
   ]
  },
  {
   "cell_type": "code",
   "execution_count": 3,
   "metadata": {},
   "outputs": [
    {
     "data": {
      "text/html": [
       "<div>\n",
       "<style scoped>\n",
       "    .dataframe tbody tr th:only-of-type {\n",
       "        vertical-align: middle;\n",
       "    }\n",
       "\n",
       "    .dataframe tbody tr th {\n",
       "        vertical-align: top;\n",
       "    }\n",
       "\n",
       "    .dataframe thead th {\n",
       "        text-align: right;\n",
       "    }\n",
       "</style>\n",
       "<table border=\"1\" class=\"dataframe\">\n",
       "  <thead>\n",
       "    <tr style=\"text-align: right;\">\n",
       "      <th></th>\n",
       "      <th>e401k</th>\n",
       "      <th>inc</th>\n",
       "      <th>marr</th>\n",
       "      <th>male</th>\n",
       "      <th>age</th>\n",
       "      <th>fsize</th>\n",
       "      <th>nettfa</th>\n",
       "      <th>p401k</th>\n",
       "      <th>pira</th>\n",
       "      <th>incsq</th>\n",
       "      <th>agesq</th>\n",
       "    </tr>\n",
       "  </thead>\n",
       "  <tbody>\n",
       "    <tr>\n",
       "      <th>0</th>\n",
       "      <td>0</td>\n",
       "      <td>13.170</td>\n",
       "      <td>0</td>\n",
       "      <td>0</td>\n",
       "      <td>40</td>\n",
       "      <td>1</td>\n",
       "      <td>4.575</td>\n",
       "      <td>0</td>\n",
       "      <td>1</td>\n",
       "      <td>173.4489</td>\n",
       "      <td>1600</td>\n",
       "    </tr>\n",
       "    <tr>\n",
       "      <th>1</th>\n",
       "      <td>1</td>\n",
       "      <td>61.230</td>\n",
       "      <td>0</td>\n",
       "      <td>1</td>\n",
       "      <td>35</td>\n",
       "      <td>1</td>\n",
       "      <td>154.000</td>\n",
       "      <td>1</td>\n",
       "      <td>0</td>\n",
       "      <td>3749.1130</td>\n",
       "      <td>1225</td>\n",
       "    </tr>\n",
       "    <tr>\n",
       "      <th>2</th>\n",
       "      <td>0</td>\n",
       "      <td>12.858</td>\n",
       "      <td>1</td>\n",
       "      <td>0</td>\n",
       "      <td>44</td>\n",
       "      <td>2</td>\n",
       "      <td>0.000</td>\n",
       "      <td>0</td>\n",
       "      <td>0</td>\n",
       "      <td>165.3282</td>\n",
       "      <td>1936</td>\n",
       "    </tr>\n",
       "    <tr>\n",
       "      <th>3</th>\n",
       "      <td>0</td>\n",
       "      <td>98.880</td>\n",
       "      <td>1</td>\n",
       "      <td>1</td>\n",
       "      <td>44</td>\n",
       "      <td>2</td>\n",
       "      <td>21.800</td>\n",
       "      <td>0</td>\n",
       "      <td>0</td>\n",
       "      <td>9777.2540</td>\n",
       "      <td>1936</td>\n",
       "    </tr>\n",
       "    <tr>\n",
       "      <th>4</th>\n",
       "      <td>0</td>\n",
       "      <td>22.614</td>\n",
       "      <td>0</td>\n",
       "      <td>0</td>\n",
       "      <td>53</td>\n",
       "      <td>1</td>\n",
       "      <td>18.450</td>\n",
       "      <td>0</td>\n",
       "      <td>0</td>\n",
       "      <td>511.3930</td>\n",
       "      <td>2809</td>\n",
       "    </tr>\n",
       "  </tbody>\n",
       "</table>\n",
       "</div>"
      ],
      "text/plain": [
       "   e401k     inc  marr  male  age  fsize   nettfa  p401k  pira      incsq  \\\n",
       "0      0  13.170     0     0   40      1    4.575      0     1   173.4489   \n",
       "1      1  61.230     0     1   35      1  154.000      1     0  3749.1130   \n",
       "2      0  12.858     1     0   44      2    0.000      0     0   165.3282   \n",
       "3      0  98.880     1     1   44      2   21.800      0     0  9777.2540   \n",
       "4      0  22.614     0     0   53      1   18.450      0     0   511.3930   \n",
       "\n",
       "   agesq  \n",
       "0   1600  \n",
       "1   1225  \n",
       "2   1936  \n",
       "3   1936  \n",
       "4   2809  "
      ]
     },
     "execution_count": 3,
     "metadata": {},
     "output_type": "execute_result"
    }
   ],
   "source": [
    "#Checking how the data looks\n",
    "data_df.head()"
   ]
  },
  {
   "cell_type": "markdown",
   "metadata": {},
   "source": [
    "##### 2. What are 2-3 other variables that, if available, would be helpful to have?"
   ]
  },
  {
   "cell_type": "markdown",
   "metadata": {
    "collapsed": true
   },
   "source": [
    "Tax  Bracket, Dependants, Household"
   ]
  },
  {
   "cell_type": "markdown",
   "metadata": {},
   "source": [
    "##### 3. Suppose a peer recommended putting `race` into your model in order to better predict who to target when advertising IRAs and 401(k)s. Why would this be an unethical decision?"
   ]
  },
  {
   "cell_type": "markdown",
   "metadata": {
    "collapsed": true
   },
   "source": [
    "This may lead to racial bias as IRA's and 401k's will be advertised only to specific to race. This is racial discrimination."
   ]
  },
  {
   "cell_type": "markdown",
   "metadata": {},
   "source": [
    "## Step 3: Explore the data.\n",
    "\n",
    "##### 4. When attempting to predict income, which feature(s) would we reasonably not use? Why?"
   ]
  },
  {
   "cell_type": "code",
   "execution_count": 4,
   "metadata": {},
   "outputs": [
    {
     "data": {
      "text/plain": [
       "<matplotlib.axes._subplots.AxesSubplot at 0x1a14be46a0>"
      ]
     },
     "execution_count": 4,
     "metadata": {},
     "output_type": "execute_result"
    },
    {
     "data": {
      "image/png": "[encoded data removed]",
      "text/plain": [
       "<Figure size 864x576 with 2 Axes>"
      ]
     },
     "metadata": {
      "needs_background": "light"
     },
     "output_type": "display_data"
    }
   ],
   "source": [
    "#Finding correlations of predictors to income\n",
    "focus = data_df.corr()[['inc']].sort_values(by = 'inc', ascending = False)\n",
    "plt.figure(figsize = (12,8))\n",
    "sns.heatmap(focus, annot = True, cmap = 'coolwarm')"
   ]
  },
  {
   "cell_type": "code",
   "execution_count": 5,
   "metadata": {},
   "outputs": [
    {
     "data": {
      "text/plain": [
       "<matplotlib.axes._subplots.AxesSubplot at 0x1a1f500c50>"
      ]
     },
     "execution_count": 5,
     "metadata": {},
     "output_type": "execute_result"
    },
    {
     "data": {
      "image/png": "[encoded data removed]",
      "text/plain": [
       "<Figure size 864x576 with 2 Axes>"
      ]
     },
     "metadata": {
      "needs_background": "light"
     },
     "output_type": "display_data"
    }
   ],
   "source": [
    "#Checking correlation of variables among themselves\n",
    "plt.figure(figsize = (12,8))\n",
    "sns.heatmap(data_df.corr(), annot = True, cmap = 'coolwarm')"
   ]
  },
  {
   "cell_type": "markdown",
   "metadata": {},
   "source": [
    "I would remove income-squared"
   ]
  },
  {
   "cell_type": "markdown",
   "metadata": {},
   "source": [
    "##### 5. What two variables have already been created for us through feature engineering? Come up with a hypothesis as to why subject-matter experts may have done this.\n",
    "> This need not be a \"statistical hypothesis.\" Just brainstorm why SMEs might have done this!"
   ]
  },
  {
   "cell_type": "markdown",
   "metadata": {
    "collapsed": true
   },
   "source": [
    "income-squared, age-squares. It might be some calculations within the returns, interest rate, etc"
   ]
  },
  {
   "cell_type": "markdown",
   "metadata": {},
   "source": [
    "##### 6. Looking at the data dictionary, one variable description appears to be an error. What is this error, and what do you think the correct value would be?"
   ]
  },
  {
   "cell_type": "markdown",
   "metadata": {
    "collapsed": true
   },
   "source": [
    "The description age^2 for age. Age of the person would be a better description."
   ]
  },
  {
   "cell_type": "markdown",
   "metadata": {},
   "source": [
    "## Step 4: Model the data. (Part 1: Regression Problem)\n",
    "\n",
    "Recall:\n",
    "- Problem: What features best predict one's income?\n",
    "- When predicting `inc`, you should pretend as though you do not have access to the `e401k`, the `p401k` variable, and the `pira` variable.\n",
    "\n",
    "##### 7. List all modeling tactics we've learned that could be used to solve a regression problem (as of Wednesday afternoon of Week 6). For each tactic, identify whether it is or is not appropriate for solving this specific regression problem and explain why or why not."
   ]
  },
  {
   "cell_type": "code",
   "execution_count": 6,
   "metadata": {},
   "outputs": [
    {
     "data": {
      "text/plain": [
       "Index(['e401k', 'inc', 'marr', 'male', 'age', 'fsize', 'nettfa', 'p401k',\n",
       "       'pira', 'incsq', 'agesq'],\n",
       "      dtype='object')"
      ]
     },
     "execution_count": 6,
     "metadata": {},
     "output_type": "execute_result"
    }
   ],
   "source": [
    "#Listing out the columns of the dataset\n",
    "data_df.columns"
   ]
  },
  {
   "cell_type": "code",
   "execution_count": 7,
   "metadata": {},
   "outputs": [],
   "source": [
    "#Seperating X and Y for the model\n",
    "features = ['e401k', 'marr', 'male', 'age', 'fsize', 'nettfa', 'p401k', 'pira', 'agesq']\n",
    "X = data_df[features]\n",
    "y = data_df['inc']"
   ]
  },
  {
   "cell_type": "code",
   "execution_count": 8,
   "metadata": {},
   "outputs": [],
   "source": [
    "#Splitting the data into test and train data\n",
    "X_train, X_test, y_train, y_test = train_test_split(X, y, random_state = 42)"
   ]
  },
  {
   "cell_type": "markdown",
   "metadata": {},
   "source": [
    "##### 8. Regardless of your answer to number 7, fit at least one of each of the following models to attempt to solve the regression problem above:\n",
    "    - a multiple linear regression model\n",
    "    - a k-nearest neighbors model\n",
    "    - a decision tree\n",
    "    - a set of bagged decision trees\n",
    "    - a random forest\n",
    "    - an Adaboost model\n",
    "    - a support vector regressor\n",
    "    \n",
    "> As always, be sure to do a train/test split! In order to compare modeling techniques, you should use the same train-test split on each. I recommend setting a random seed here.\n",
    "\n",
    "> You may find it helpful to set up a pipeline to try each modeling technique, but you are not required to do so!"
   ]
  },
  {
   "cell_type": "code",
   "execution_count": 9,
   "metadata": {},
   "outputs": [
    {
     "name": "stdout",
     "output_type": "stream",
     "text": [
      "The training accuracy score is 0.3637103479233086\n",
      "The testing accuracy score is 0.33805976697397133\n",
      "The testing rmse score is 19.866164590207703\n",
      "The training rmse score is 19.126719073874185\n"
     ]
    }
   ],
   "source": [
    "#Linear regression model\n",
    "lr = LinearRegression()\n",
    "lr.fit(X_train, y_train)\n",
    "print (f'The training accuracy score is {lr.score(X_train, y_train)}')\n",
    "print (f'The testing accuracy score is {lr.score(X_test, y_test)}')\n",
    "lr_pred_test = lr.predict(X_test)\n",
    "lr_pred_train = lr.predict(X_train)\n",
    "lr_rmse_test = np.sqrt(mean_squared_error(y_test, lr_pred_test))\n",
    "lr_rmse_train = np.sqrt(mean_squared_error(y_train, lr_pred_train))\n",
    "print (f'The testing rmse score is {lr_rmse_test}')\n",
    "print (f'The training rmse score is {lr_rmse_train}')"
   ]
  },
  {
   "cell_type": "code",
   "execution_count": 10,
   "metadata": {},
   "outputs": [
    {
     "name": "stdout",
     "output_type": "stream",
     "text": [
      "The training accuracy score is 0.49439930205513694\n",
      "The testing accuracy score is 0.2338975507336104\n",
      "The testing rmse score is 21.37214270687069\n",
      "The training rmse score is 17.049705481876153\n"
     ]
    }
   ],
   "source": [
    "#Knn model\n",
    "knn = KNeighborsRegressor()\n",
    "knn.fit(X_train, y_train)\n",
    "print (f'The training accuracy score is {knn.score(X_train, y_train)}')\n",
    "print (f'The testing accuracy score is {knn.score(X_test, y_test)}')\n",
    "knn_pred_test = knn.predict(X_test)\n",
    "knn_pred_train = knn.predict(X_train)\n",
    "knn_rmse_test = np.sqrt(mean_squared_error(y_test, knn_pred_test))\n",
    "knn_rmse_train = np.sqrt(mean_squared_error(y_train, knn_pred_train))\n",
    "print (f'The testing rmse score is {knn_rmse_test}')\n",
    "print (f'The training rmse score is {knn_rmse_train}')"
   ]
  },
  {
   "cell_type": "code",
   "execution_count": 11,
   "metadata": {},
   "outputs": [
    {
     "name": "stdout",
     "output_type": "stream",
     "text": [
      "The training accuracy score is 0.4420121172985837\n",
      "The testing accuracy score is 0.3889697378279839\n",
      "The testing rmse score is 19.08692644750079\n",
      "The training rmse score is 17.91123091359276\n"
     ]
    }
   ],
   "source": [
    "#Decision Tree model\n",
    "dt = DecisionTreeRegressor(min_samples_leaf= 50)\n",
    "dt.fit(X_train, y_train)\n",
    "print (f'The training accuracy score is {dt.score(X_train, y_train)}')\n",
    "print (f'The testing accuracy score is {dt.score(X_test, y_test)}')\n",
    "dt_pred_test = dt.predict(X_test)\n",
    "dt_pred_train = dt.predict(X_train)\n",
    "dt_rmse_test = np.sqrt(mean_squared_error(y_test, dt_pred_test))\n",
    "dt_rmse_train = np.sqrt(mean_squared_error(y_train, dt_pred_train))\n",
    "print (f'The testing rmse score is {dt_rmse_test}')\n",
    "print (f'The training rmse score is {dt_rmse_train}')"
   ]
  },
  {
   "cell_type": "code",
   "execution_count": 12,
   "metadata": {},
   "outputs": [
    {
     "name": "stdout",
     "output_type": "stream",
     "text": [
      "The training accuracy score is 0.8191341777564317\n",
      "The testing accuracy score is 0.35846746218423986\n",
      "The testing rmse score is 19.08692644750079\n",
      "The training rmse score is 17.91123091359276\n"
     ]
    }
   ],
   "source": [
    "#bagged Decision Trees\n",
    "bg = BaggingRegressor(n_estimators= 100, bootstrap_features= True, oob_score = True, n_jobs= -1 )\n",
    "bg.fit(X_train, y_train)\n",
    "print (f'The training accuracy score is {bg.score(X_train, y_train)}')\n",
    "print (f'The testing accuracy score is {bg.score(X_test, y_test)}')\n",
    "\n",
    "bg_pred_test = dt.predict(X_test)\n",
    "bg_pred_train = dt.predict(X_train)\n",
    "bg_rmse_test = np.sqrt(mean_squared_error(y_test, bg_pred_test))\n",
    "bg_rmse_train = np.sqrt(mean_squared_error(y_train, bg_pred_train))\n",
    "print (f'The testing rmse score is {bg_rmse_test}')\n",
    "print (f'The training rmse score is {bg_rmse_train}')"
   ]
  },
  {
   "cell_type": "code",
   "execution_count": 13,
   "metadata": {},
   "outputs": [
    {
     "name": "stdout",
     "output_type": "stream",
     "text": [
      "The training accuracy score is 0.9039665144477348\n",
      "The testing accuracy score is 0.3441931280856283\n",
      "The testing rmse score is 19.773913115352208\n",
      "The training rmse score is 7.430608754972918\n"
     ]
    }
   ],
   "source": [
    "#random forest\n",
    "rf = RandomForestRegressor(n_estimators= 100, oob_score = True, n_jobs= -1)\n",
    "rf.fit(X_train, y_train)\n",
    "print (f'The training accuracy score is {rf.score(X_train, y_train)}')\n",
    "print (f'The testing accuracy score is {rf.score(X_test, y_test)}')\n",
    "\n",
    "rf_pred_test = rf.predict(X_test)\n",
    "rf_pred_train = rf.predict(X_train)\n",
    "rf_rmse_test = np.sqrt(mean_squared_error(y_test, rf_pred_test))\n",
    "rf_rmse_train = np.sqrt(mean_squared_error(y_train, rf_pred_train))\n",
    "print (f'The testing rmse score is {rf_rmse_test}')\n",
    "print (f'The training rmse score is {rf_rmse_train}')"
   ]
  },
  {
   "cell_type": "code",
   "execution_count": 14,
   "metadata": {},
   "outputs": [
    {
     "name": "stdout",
     "output_type": "stream",
     "text": [
      "The training accuracy score is 0.38005158607802403\n",
      "The testing accuracy score is 0.3477700790920627\n",
      "The testing rmse score is 19.719913202402005\n",
      "The training rmse score is 18.879514659123565\n"
     ]
    }
   ],
   "source": [
    "#Adaboost\n",
    "ad = AdaBoostRegressor(learning_rate= 0.01)\n",
    "ad.fit(X_train, y_train)\n",
    "print (f'The training accuracy score is {ad.score(X_train, y_train)}')\n",
    "print (f'The testing accuracy score is {ad.score(X_test, y_test)}')\n",
    "\n",
    "ad_pred_test = ad.predict(X_test)\n",
    "ad_pred_train = ad.predict(X_train)\n",
    "ad_rmse_test = np.sqrt(mean_squared_error(y_test, ad_pred_test))\n",
    "ad_rmse_train = np.sqrt(mean_squared_error(y_train, ad_pred_train))\n",
    "print (f'The testing rmse score is {ad_rmse_test}')\n",
    "print (f'The training rmse score is {ad_rmse_train}')"
   ]
  },
  {
   "cell_type": "code",
   "execution_count": 15,
   "metadata": {},
   "outputs": [
    {
     "name": "stderr",
     "output_type": "stream",
     "text": [
      "/Users/antonypaulson/anaconda3/lib/python3.7/site-packages/sklearn/svm/base.py:193: FutureWarning: The default value of gamma will change from 'auto' to 'scale' in version 0.22 to account better for unscaled features. Set gamma explicitly to 'auto' or 'scale' to avoid this warning.\n",
      "  \"avoid this warning.\", FutureWarning)\n"
     ]
    },
    {
     "name": "stdout",
     "output_type": "stream",
     "text": [
      "The training accuracy score is -0.054408263884791586\n",
      "The testing accuracy score is -0.05192840926608699\n",
      "The testing rmse score is 25.04365613974942\n",
      "The training rmse score is 24.621666781768717\n"
     ]
    }
   ],
   "source": [
    "#SVM\n",
    "sv = SVR(C = 0.01)\n",
    "sv.fit(X_train, y_train)\n",
    "print (f'The training accuracy score is {sv.score(X_train, y_train)}')\n",
    "print (f'The testing accuracy score is {sv.score(X_test, y_test)}')\n",
    "\n",
    "sv_pred_test = sv.predict(X_test)\n",
    "sv_pred_train = sv.predict(X_train)\n",
    "sv_rmse_test = np.sqrt(mean_squared_error(y_test, sv_pred_test))\n",
    "sv_rmse_train = np.sqrt(mean_squared_error(y_train, sv_pred_train))\n",
    "print (f'The testing rmse score is {sv_rmse_test}')\n",
    "print (f'The training rmse score is {sv_rmse_train}')"
   ]
  },
  {
   "cell_type": "code",
   "execution_count": 16,
   "metadata": {},
   "outputs": [
    {
     "data": {
      "text/html": [
       "<div>\n",
       "<style scoped>\n",
       "    .dataframe tbody tr th:only-of-type {\n",
       "        vertical-align: middle;\n",
       "    }\n",
       "\n",
       "    .dataframe tbody tr th {\n",
       "        vertical-align: top;\n",
       "    }\n",
       "\n",
       "    .dataframe thead th {\n",
       "        text-align: right;\n",
       "    }\n",
       "</style>\n",
       "<table border=\"1\" class=\"dataframe\">\n",
       "  <thead>\n",
       "    <tr style=\"text-align: right;\">\n",
       "      <th></th>\n",
       "      <th>features</th>\n",
       "      <th>coefficients</th>\n",
       "    </tr>\n",
       "  </thead>\n",
       "  <tbody>\n",
       "    <tr>\n",
       "      <th>5</th>\n",
       "      <td>nettfa</td>\n",
       "      <td>0.749570</td>\n",
       "    </tr>\n",
       "    <tr>\n",
       "      <th>1</th>\n",
       "      <td>marr</td>\n",
       "      <td>0.245620</td>\n",
       "    </tr>\n",
       "    <tr>\n",
       "      <th>3</th>\n",
       "      <td>age</td>\n",
       "      <td>0.001520</td>\n",
       "    </tr>\n",
       "    <tr>\n",
       "      <th>8</th>\n",
       "      <td>agesq</td>\n",
       "      <td>0.001505</td>\n",
       "    </tr>\n",
       "    <tr>\n",
       "      <th>0</th>\n",
       "      <td>e401k</td>\n",
       "      <td>0.000827</td>\n",
       "    </tr>\n",
       "    <tr>\n",
       "      <th>7</th>\n",
       "      <td>pira</td>\n",
       "      <td>0.000578</td>\n",
       "    </tr>\n",
       "    <tr>\n",
       "      <th>2</th>\n",
       "      <td>male</td>\n",
       "      <td>0.000201</td>\n",
       "    </tr>\n",
       "    <tr>\n",
       "      <th>6</th>\n",
       "      <td>p401k</td>\n",
       "      <td>0.000178</td>\n",
       "    </tr>\n",
       "    <tr>\n",
       "      <th>4</th>\n",
       "      <td>fsize</td>\n",
       "      <td>0.000000</td>\n",
       "    </tr>\n",
       "  </tbody>\n",
       "</table>\n",
       "</div>"
      ],
      "text/plain": [
       "  features  coefficients\n",
       "5   nettfa      0.749570\n",
       "1     marr      0.245620\n",
       "3      age      0.001520\n",
       "8    agesq      0.001505\n",
       "0    e401k      0.000827\n",
       "7     pira      0.000578\n",
       "2     male      0.000201\n",
       "6    p401k      0.000178\n",
       "4    fsize      0.000000"
      ]
     },
     "execution_count": 16,
     "metadata": {},
     "output_type": "execute_result"
    }
   ],
   "source": [
    "#Which are the parameters that are interesting\n",
    "ad_coeff = ad.feature_importances_\n",
    "features = ['e401k', 'marr', 'male', 'age', 'fsize', 'nettfa', 'p401k', 'pira', 'agesq']\n",
    "\n",
    "dict_coeff= {'features' : features,\n",
    "            'coefficients': ad_coeff}\n",
    "df = pd.DataFrame(dict_coeff)\n",
    "df.sort_values(by = 'coefficients', ascending = False)"
   ]
  },
  {
   "cell_type": "markdown",
   "metadata": {},
   "source": [
    "##### 9. What is bootstrapping?"
   ]
  },
  {
   "cell_type": "markdown",
   "metadata": {
    "collapsed": true
   },
   "source": [
    "Taking a random sample 'n' from a dataset with replacement is called bootstrapping"
   ]
  },
  {
   "cell_type": "markdown",
   "metadata": {},
   "source": [
    "##### 10. What is the difference between a decision tree and a set of bagged decision trees? Be specific and precise!"
   ]
  },
  {
   "cell_type": "markdown",
   "metadata": {
    "collapsed": true
   },
   "source": [
    "bagged decision trees generally predict more accurate outputs than one decision trees as the aggregated outputs mitigates overfitting"
   ]
  },
  {
   "cell_type": "markdown",
   "metadata": {},
   "source": [
    "##### 11. What is the difference between a set of bagged decision trees and a random forest? Be specific and precise!"
   ]
  },
  {
   "cell_type": "markdown",
   "metadata": {
    "collapsed": true
   },
   "source": [
    "The only difference is that the random forest selects random subset of features at each split"
   ]
  },
  {
   "cell_type": "markdown",
   "metadata": {},
   "source": [
    "##### 12. Why might a random forest be superior to a set of bagged decision trees?\n",
    "> Hint: Consider the bias-variance tradeoff."
   ]
  },
  {
   "cell_type": "markdown",
   "metadata": {
    "collapsed": true
   },
   "source": [
    "Bagged Decision Trees are esentially trained on the same features. This leads to high variance in the model. However Random forests are trained on separate features and hence have less variance between results"
   ]
  },
  {
   "cell_type": "markdown",
   "metadata": {},
   "source": [
    "## Step 5: Evaluate the model. (Part 1: Regression Problem)\n",
    "\n",
    "##### 13. Using RMSE, evaluate each of the models you fit on both the training and testing data."
   ]
  },
  {
   "cell_type": "code",
   "execution_count": 17,
   "metadata": {},
   "outputs": [
    {
     "data": {
      "text/html": [
       "<div>\n",
       "<style scoped>\n",
       "    .dataframe tbody tr th:only-of-type {\n",
       "        vertical-align: middle;\n",
       "    }\n",
       "\n",
       "    .dataframe tbody tr th {\n",
       "        vertical-align: top;\n",
       "    }\n",
       "\n",
       "    .dataframe thead th {\n",
       "        text-align: right;\n",
       "    }\n",
       "</style>\n",
       "<table border=\"1\" class=\"dataframe\">\n",
       "  <thead>\n",
       "    <tr style=\"text-align: right;\">\n",
       "      <th></th>\n",
       "      <th>Training RMSE</th>\n",
       "      <th>Testing RMSE</th>\n",
       "    </tr>\n",
       "  </thead>\n",
       "  <tbody>\n",
       "    <tr>\n",
       "      <th>Linear Regression</th>\n",
       "      <td>19.126719</td>\n",
       "      <td>19.866165</td>\n",
       "    </tr>\n",
       "    <tr>\n",
       "      <th>K-nearest-neighbors</th>\n",
       "      <td>17.049705</td>\n",
       "      <td>21.372143</td>\n",
       "    </tr>\n",
       "    <tr>\n",
       "      <th>Decision Tree</th>\n",
       "      <td>17.911231</td>\n",
       "      <td>19.086926</td>\n",
       "    </tr>\n",
       "    <tr>\n",
       "      <th>Random Forest</th>\n",
       "      <td>7.430609</td>\n",
       "      <td>19.773913</td>\n",
       "    </tr>\n",
       "    <tr>\n",
       "      <th>Bag of Trees</th>\n",
       "      <td>17.911231</td>\n",
       "      <td>19.086926</td>\n",
       "    </tr>\n",
       "    <tr>\n",
       "      <th>Adaboost</th>\n",
       "      <td>18.879515</td>\n",
       "      <td>19.719913</td>\n",
       "    </tr>\n",
       "    <tr>\n",
       "      <th>SVM</th>\n",
       "      <td>24.621667</td>\n",
       "      <td>25.043656</td>\n",
       "    </tr>\n",
       "  </tbody>\n",
       "</table>\n",
       "</div>"
      ],
      "text/plain": [
       "                     Training RMSE  Testing RMSE\n",
       "Linear Regression        19.126719     19.866165\n",
       "K-nearest-neighbors      17.049705     21.372143\n",
       "Decision Tree            17.911231     19.086926\n",
       "Random Forest             7.430609     19.773913\n",
       "Bag of Trees             17.911231     19.086926\n",
       "Adaboost                 18.879515     19.719913\n",
       "SVM                      24.621667     25.043656"
      ]
     },
     "execution_count": 17,
     "metadata": {},
     "output_type": "execute_result"
    }
   ],
   "source": [
    "#Creating a dataframe of RMSE's for better visualisation\n",
    "testing_rmse = [lr_rmse_test, knn_rmse_test, dt_rmse_test, rf_rmse_test, bg_rmse_test, ad_rmse_test, sv_rmse_test]\n",
    "training_rmse = [lr_rmse_train, knn_rmse_train, dt_rmse_train, rf_rmse_train, bg_rmse_train, ad_rmse_train, sv_rmse_train]\n",
    "models = ['Linear Regression', \n",
    "          'K-nearest-neighbors',\n",
    "          'Decision Tree',\n",
    "          'Random Forest',\n",
    "          'Bag of Trees',\n",
    "          'Adaboost',\n",
    "          'SVM'\n",
    "         ]\n",
    "\n",
    "dict_rmse = {'Training RMSE': training_rmse,\n",
    "             'Testing RMSE' : testing_rmse}\n",
    "pd.DataFrame(dict_rmse, index = models)"
   ]
  },
  {
   "cell_type": "markdown",
   "metadata": {},
   "source": [
    "##### 14. Based on training RMSE and testing RMSE, is there evidence of overfitting in any of your models? Which ones?"
   ]
  },
  {
   "cell_type": "markdown",
   "metadata": {
    "collapsed": true
   },
   "source": [
    "There is overfitting in many models. But clear overfitting can be seen in case of the Ramndom Forest model."
   ]
  },
  {
   "cell_type": "markdown",
   "metadata": {},
   "source": [
    "##### 15. Based on everything we've covered so far, if you had to pick just one model as your final model to use to answer the problem in front of you, which one model would you pick? Defend your choice."
   ]
  },
  {
   "cell_type": "markdown",
   "metadata": {
    "collapsed": true
   },
   "source": [
    "I would choose the Bag of trees model with relavant parameters. Because it has low overfitting in this case and is a better model than decision trees"
   ]
  },
  {
   "cell_type": "markdown",
   "metadata": {},
   "source": [
    "##### 16. Suppose you wanted to improve the performance of your final model. Brainstorm 2-3 things that, if you had more time, you would attempt."
   ]
  },
  {
   "cell_type": "markdown",
   "metadata": {
    "collapsed": true
   },
   "source": [
    "1. Grid search for parameter tuning.\n",
    "2. Increase number of trees"
   ]
  },
  {
   "cell_type": "markdown",
   "metadata": {},
   "source": [
    "## Step 4: Model the data. (Part 2: Classification Problem)\n",
    "\n",
    "Recall:\n",
    "- Problem: Predict whether or not one is eligible for a 401k.\n",
    "- When predicting `e401k`, you may use the entire dataframe if you wish.\n",
    "\n",
    "##### 17. While you're allowed to use every variable in your dataframe, mention at least one disadvantage of using `p401k` in your model."
   ]
  },
  {
   "cell_type": "markdown",
   "metadata": {
    "collapsed": true
   },
   "source": [
    "p401k indicates whether a person did or did not participate in the 401k program. These two variables are highly corellated with a corelation coefficient of 0.77. So it is best to drop 1."
   ]
  },
  {
   "cell_type": "markdown",
   "metadata": {},
   "source": [
    "##### 18. List all modeling tactics we've learned that could be used to solve a classification problem (as of Wednesday afternoon of Week 6). For each tactic, identify whether it is or is not appropriate for solving this specific classification problem and explain why or why not."
   ]
  },
  {
   "cell_type": "markdown",
   "metadata": {
    "collapsed": true
   },
   "source": [
    "1. a logistic regression model\n",
    "2. a k-nearest neighbors model\n",
    "3. a decision tree\n",
    "4. a set of bagged decision trees\n",
    "5. a random forest\n",
    "6. an Adaboost model\n",
    "7. a support vector classifier\n",
    "\n",
    "All these problems are suited for binary classification."
   ]
  },
  {
   "cell_type": "markdown",
   "metadata": {},
   "source": [
    "##### 19. Regardless of your answer to number 18, fit at least one of each of the following models to attempt to solve the classification problem above:\n",
    "    - a logistic regression model\n",
    "    - a k-nearest neighbors model\n",
    "    - a decision tree\n",
    "    - a set of bagged decision trees\n",
    "    - a random forest\n",
    "    - an Adaboost model\n",
    "    - a support vector classifier\n",
    "    \n",
    "> As always, be sure to do a train/test split! In order to compare modeling techniques, you should use the same train-test split on each. I recommend using a random seed here.\n",
    "\n",
    "> You may find it helpful to set up a pipeline to try each modeling technique, but you are not required to do so!"
   ]
  },
  {
   "cell_type": "code",
   "execution_count": 18,
   "metadata": {},
   "outputs": [],
   "source": [
    "#Seperating X and Y for the model\n",
    "features = ['marr', 'male', 'age', 'fsize', 'nettfa', 'inc', 'pira', 'agesq']\n",
    "X = data_df[features]\n",
    "y = data_df['e401k']"
   ]
  },
  {
   "cell_type": "code",
   "execution_count": 19,
   "metadata": {},
   "outputs": [],
   "source": [
    "#Splitting the data into test and train data\n",
    "X_train, X_test, y_train, y_test = train_test_split(X, y, random_state = 42)"
   ]
  },
  {
   "cell_type": "code",
   "execution_count": 20,
   "metadata": {},
   "outputs": [
    {
     "name": "stdout",
     "output_type": "stream",
     "text": [
      "The training accuracy score is 0.6457734330074756\n",
      "The testing accuracy score is 0.6614920224234584\n"
     ]
    },
    {
     "name": "stderr",
     "output_type": "stream",
     "text": [
      "/Users/antonypaulson/anaconda3/lib/python3.7/site-packages/sklearn/linear_model/logistic.py:432: FutureWarning: Default solver will be changed to 'lbfgs' in 0.22. Specify a solver to silence this warning.\n",
      "  FutureWarning)\n"
     ]
    }
   ],
   "source": [
    "#Logistic Regression model\n",
    "lr = LogisticRegression()\n",
    "lr.fit(X_train, y_train)\n",
    "print (f'The training accuracy score is {lr.score(X_train, y_train)}')\n",
    "print (f'The testing accuracy score is {lr.score(X_test, y_test)}')\n",
    "pred_lr_test = lr.predict(X_test)\n",
    "pred_lr_train = lr.predict(X_train)\n",
    "f1_lr_test = metrics.f1_score(y_test, pred_lr_test)\n",
    "f1_lr_train = metrics.f1_score(y_train, pred_lr_train)"
   ]
  },
  {
   "cell_type": "code",
   "execution_count": 21,
   "metadata": {},
   "outputs": [
    {
     "name": "stdout",
     "output_type": "stream",
     "text": [
      "The training accuracy score is 0.7502875215641173\n",
      "The testing accuracy score is 0.6326002587322122\n"
     ]
    }
   ],
   "source": [
    "#KNN Classifier\n",
    "knn = KNeighborsClassifier()\n",
    "knn.fit(X_train, y_train)\n",
    "print (f'The training accuracy score is {knn.score(X_train, y_train)}')\n",
    "print (f'The testing accuracy score is {knn.score(X_test, y_test)}')\n",
    "pred_knn_test = knn.predict(X_test)\n",
    "pred_knn_train = knn.predict(X_train)\n",
    "f1_knn_test = metrics.f1_score(y_test, pred_knn_test)\n",
    "f1_knn_train = metrics.f1_score(y_train, pred_knn_train)"
   ]
  },
  {
   "cell_type": "code",
   "execution_count": 22,
   "metadata": {},
   "outputs": [
    {
     "name": "stdout",
     "output_type": "stream",
     "text": [
      "The training accuracy score is 0.6943645773433007\n",
      "The testing accuracy score is 0.692539887882708\n"
     ]
    }
   ],
   "source": [
    "#Decision Tree model\n",
    "dt = DecisionTreeClassifier(min_samples_leaf= 100)\n",
    "dt.fit(X_train, y_train)\n",
    "print (f'The training accuracy score is {dt.score(X_train, y_train)}')\n",
    "print (f'The testing accuracy score is {dt.score(X_test, y_test)}')\n",
    "pred_dt_test = dt.predict(X_test)\n",
    "pred_dt_train = dt.predict(X_train)\n",
    "f1_dt_test = metrics.f1_score(y_test, pred_dt_test)\n",
    "f1_dt_train = metrics.f1_score(y_train, pred_dt_train)"
   ]
  },
  {
   "cell_type": "code",
   "execution_count": 23,
   "metadata": {},
   "outputs": [
    {
     "name": "stdout",
     "output_type": "stream",
     "text": [
      "The training accuracy score is 0.6910580793559516\n",
      "The testing accuracy score is 0.6821905993962915\n"
     ]
    }
   ],
   "source": [
    "#bagged Decision Trees\n",
    "bg = BaggingClassifier(n_estimators= 100, max_samples = 100)\n",
    "bg.fit(X_train, y_train)\n",
    "print (f'The training accuracy score is {bg.score(X_train, y_train)}')\n",
    "print (f'The testing accuracy score is {bg.score(X_test, y_test)}')\n",
    "pred_bg_test = bg.predict(X_test)\n",
    "pred_bg_train = bg.predict(X_train)\n",
    "f1_bg_test = metrics.f1_score(y_test, pred_bg_test)\n",
    "f1_bg_train = metrics.f1_score(y_train, pred_bg_train)"
   ]
  },
  {
   "cell_type": "code",
   "execution_count": 24,
   "metadata": {},
   "outputs": [
    {
     "name": "stdout",
     "output_type": "stream",
     "text": [
      "The training accuracy score is 0.7096032202415181\n",
      "The testing accuracy score is 0.691246226821906\n"
     ]
    }
   ],
   "source": [
    "#random forest\n",
    "rf = RandomForestClassifier(n_estimators =100, min_samples_leaf = 35)\n",
    "rf.fit(X_train, y_train)\n",
    "print (f'The training accuracy score is {rf.score(X_train, y_train)}')\n",
    "print (f'The testing accuracy score is {rf.score(X_test, y_test)}')\n",
    "pred_rf_test = rf.predict(X_test)\n",
    "pred_rf_train = rf.predict(X_train)\n",
    "f1_rf_test = metrics.f1_score(y_test, pred_rf_test)\n",
    "f1_rf_train = metrics.f1_score(y_train, pred_rf_train)"
   ]
  },
  {
   "cell_type": "code",
   "execution_count": 25,
   "metadata": {},
   "outputs": [
    {
     "name": "stdout",
     "output_type": "stream",
     "text": [
      "The training accuracy score is 0.6868890166762507\n",
      "The testing accuracy score is 0.6869340232858991\n"
     ]
    }
   ],
   "source": [
    "#Adaboost\n",
    "ad = AdaBoostClassifier(learning_rate= 0.1)\n",
    "ad.fit(X_train, y_train)\n",
    "print (f'The training accuracy score is {ad.score(X_train, y_train)}')\n",
    "print (f'The testing accuracy score is {ad.score(X_test, y_test)}')\n",
    "pred_ad_test = ad.predict(X_test)\n",
    "pred_ad_train = ad.predict(X_train)\n",
    "f1_ad_test = metrics.f1_score(y_test, pred_ad_test)\n",
    "f1_ad_train = metrics.f1_score(y_train, pred_ad_train)"
   ]
  },
  {
   "cell_type": "code",
   "execution_count": 26,
   "metadata": {},
   "outputs": [
    {
     "name": "stderr",
     "output_type": "stream",
     "text": [
      "/Users/antonypaulson/anaconda3/lib/python3.7/site-packages/sklearn/svm/base.py:193: FutureWarning: The default value of gamma will change from 'auto' to 'scale' in version 0.22 to account better for unscaled features. Set gamma explicitly to 'auto' or 'scale' to avoid this warning.\n",
      "  \"avoid this warning.\", FutureWarning)\n"
     ]
    },
    {
     "name": "stdout",
     "output_type": "stream",
     "text": [
      "The training accuracy score is 0.6060954571592869\n",
      "The testing accuracy score is 0.6131953428201811\n"
     ]
    },
    {
     "name": "stderr",
     "output_type": "stream",
     "text": [
      "/Users/antonypaulson/anaconda3/lib/python3.7/site-packages/sklearn/metrics/classification.py:1437: UndefinedMetricWarning: F-score is ill-defined and being set to 0.0 due to no predicted samples.\n",
      "  'precision', 'predicted', average, warn_for)\n",
      "/Users/antonypaulson/anaconda3/lib/python3.7/site-packages/sklearn/metrics/classification.py:1437: UndefinedMetricWarning: F-score is ill-defined and being set to 0.0 due to no predicted samples.\n",
      "  'precision', 'predicted', average, warn_for)\n"
     ]
    }
   ],
   "source": [
    "#SVM\n",
    "sv = SVC(C = 0.01)\n",
    "sv.fit(X_train, y_train)\n",
    "print (f'The training accuracy score is {sv.score(X_train, y_train)}')\n",
    "print (f'The testing accuracy score is {sv.score(X_test, y_test)}')\n",
    "pred_sv_test = sv.predict(X_test)\n",
    "pred_sv_train = sv.predict(X_train)\n",
    "f1_sv_test = metrics.f1_score(y_test, pred_sv_test)\n",
    "f1_sv_train = metrics.f1_score(y_train, pred_sv_train)"
   ]
  },
  {
   "cell_type": "markdown",
   "metadata": {},
   "source": [
    "## Step 5: Evaluate the model. (Part 2: Classfication Problem)\n",
    "\n",
    "##### 20. Suppose our \"positive\" class is that someone is eligible for a 401(k). What are our false positives? What are our false negatives?"
   ]
  },
  {
   "cell_type": "markdown",
   "metadata": {
    "collapsed": true
   },
   "source": [
    "1. The false positives are those that are predicted eligible for a 401(k) but in reality are not eligible.\n",
    "\n",
    "2. The false negatives are those that are predicted ineligible for a 401(k) but in reality are eligible. "
   ]
  },
  {
   "cell_type": "markdown",
   "metadata": {},
   "source": [
    "##### 21. In this specific case, would we rather minimize false positives or minimize false negatives? Defend your choice."
   ]
  },
  {
   "cell_type": "markdown",
   "metadata": {
    "collapsed": true
   },
   "source": [
    "I am working for a financial services company with the aim of garnering as many customers as possible. I would not mind false positives as they can be assesed later on. False negatives will however put really valuable customers off of my radar."
   ]
  },
  {
   "cell_type": "markdown",
   "metadata": {},
   "source": [
    "##### 22. Suppose we wanted to optimize for the answer you provided in problem 21. Which metric would we optimize in this case?"
   ]
  },
  {
   "cell_type": "markdown",
   "metadata": {
    "collapsed": true
   },
   "source": [
    "We would optimize specificity."
   ]
  },
  {
   "cell_type": "markdown",
   "metadata": {},
   "source": [
    "##### 23. Suppose that instead of optimizing for the metric in problem 21, we wanted to balance our false positives and false negatives using `f1-score`. Why might [f1-score](https://en.wikipedia.org/wiki/F1_score) be an appropriate metric to use here?"
   ]
  },
  {
   "cell_type": "markdown",
   "metadata": {
    "collapsed": true
   },
   "source": [
    "The best model in this case was the adaboost model. Let us look at the confusion matrix of adaboost."
   ]
  },
  {
   "cell_type": "code",
   "execution_count": 28,
   "metadata": {},
   "outputs": [
    {
     "data": {
      "text/html": [
       "<div>\n",
       "<style scoped>\n",
       "    .dataframe tbody tr th:only-of-type {\n",
       "        vertical-align: middle;\n",
       "    }\n",
       "\n",
       "    .dataframe tbody tr th {\n",
       "        vertical-align: top;\n",
       "    }\n",
       "\n",
       "    .dataframe thead th {\n",
       "        text-align: right;\n",
       "    }\n",
       "</style>\n",
       "<table border=\"1\" class=\"dataframe\">\n",
       "  <thead>\n",
       "    <tr style=\"text-align: right;\">\n",
       "      <th></th>\n",
       "      <th>Predicted False</th>\n",
       "      <th>Predicted True</th>\n",
       "    </tr>\n",
       "  </thead>\n",
       "  <tbody>\n",
       "    <tr>\n",
       "      <th>Actual False</th>\n",
       "      <td>1137</td>\n",
       "      <td>285</td>\n",
       "    </tr>\n",
       "    <tr>\n",
       "      <th>Actual True</th>\n",
       "      <td>441</td>\n",
       "      <td>456</td>\n",
       "    </tr>\n",
       "  </tbody>\n",
       "</table>\n",
       "</div>"
      ],
      "text/plain": [
       "              Predicted False  Predicted True\n",
       "Actual False             1137             285\n",
       "Actual True               441             456"
      ]
     },
     "execution_count": 28,
     "metadata": {},
     "output_type": "execute_result"
    }
   ],
   "source": [
    "#Checking the confusion Matrix\n",
    "pd.DataFrame(confusion_matrix(y_test,pred_ad_test), \n",
    "             columns = ['Predicted False', 'Predicted True'],\n",
    "             index = ['Actual False', 'Actual True'])"
   ]
  },
  {
   "cell_type": "markdown",
   "metadata": {},
   "source": [
    "##### 24. Using f1-score, evaluate each of the models you fit on both the training and testing data."
   ]
  },
  {
   "cell_type": "code",
   "execution_count": 30,
   "metadata": {},
   "outputs": [
    {
     "data": {
      "text/html": [
       "<div>\n",
       "<style scoped>\n",
       "    .dataframe tbody tr th:only-of-type {\n",
       "        vertical-align: middle;\n",
       "    }\n",
       "\n",
       "    .dataframe tbody tr th {\n",
       "        vertical-align: top;\n",
       "    }\n",
       "\n",
       "    .dataframe thead th {\n",
       "        text-align: right;\n",
       "    }\n",
       "</style>\n",
       "<table border=\"1\" class=\"dataframe\">\n",
       "  <thead>\n",
       "    <tr style=\"text-align: right;\">\n",
       "      <th></th>\n",
       "      <th>Training f-1 score</th>\n",
       "      <th>Testing f-1 score</th>\n",
       "    </tr>\n",
       "  </thead>\n",
       "  <tbody>\n",
       "    <tr>\n",
       "      <th>Logistic Regression</th>\n",
       "      <td>0.379032</td>\n",
       "      <td>0.400306</td>\n",
       "    </tr>\n",
       "    <tr>\n",
       "      <th>K-nearest-neighbors</th>\n",
       "      <td>0.659211</td>\n",
       "      <td>0.491647</td>\n",
       "    </tr>\n",
       "    <tr>\n",
       "      <th>Decision Tree</th>\n",
       "      <td>0.551666</td>\n",
       "      <td>0.547302</td>\n",
       "    </tr>\n",
       "    <tr>\n",
       "      <th>Random Forest</th>\n",
       "      <td>0.575452</td>\n",
       "      <td>0.541613</td>\n",
       "    </tr>\n",
       "    <tr>\n",
       "      <th>Bag of Trees</th>\n",
       "      <td>0.540124</td>\n",
       "      <td>0.522977</td>\n",
       "    </tr>\n",
       "    <tr>\n",
       "      <th>Adaboost</th>\n",
       "      <td>0.561418</td>\n",
       "      <td>0.556777</td>\n",
       "    </tr>\n",
       "    <tr>\n",
       "      <th>SVC</th>\n",
       "      <td>0.000000</td>\n",
       "      <td>0.000000</td>\n",
       "    </tr>\n",
       "  </tbody>\n",
       "</table>\n",
       "</div>"
      ],
      "text/plain": [
       "                     Training f-1 score  Testing f-1 score\n",
       "Logistic Regression            0.379032           0.400306\n",
       "K-nearest-neighbors            0.659211           0.491647\n",
       "Decision Tree                  0.551666           0.547302\n",
       "Random Forest                  0.575452           0.541613\n",
       "Bag of Trees                   0.540124           0.522977\n",
       "Adaboost                       0.561418           0.556777\n",
       "SVC                            0.000000           0.000000"
      ]
     },
     "execution_count": 30,
     "metadata": {},
     "output_type": "execute_result"
    }
   ],
   "source": [
    "#Creating a dataframe of f1-scores for better visualisation\n",
    "testing_f1 = [f1_lr_test, f1_knn_test, f1_dt_test, f1_rf_test, f1_bg_test, f1_ad_test, f1_sv_test]\n",
    "training_f1 = [f1_lr_train, f1_knn_train, f1_dt_train, f1_rf_train, f1_bg_train, f1_ad_train, f1_sv_train]\n",
    "models = ['Logistic Regression', \n",
    "          'K-nearest-neighbors',\n",
    "          'Decision Tree',\n",
    "          'Random Forest',\n",
    "          'Bag of Trees',\n",
    "          'Adaboost',\n",
    "          'SVC'\n",
    "         ]\n",
    "\n",
    "dict_f1 = {'Training f-1 score': training_f1,\n",
    "             'Testing f-1 score' : testing_f1}\n",
    "pd.DataFrame(dict_f1, index = models)"
   ]
  },
  {
   "cell_type": "markdown",
   "metadata": {},
   "source": [
    "##### 25. Based on training f1-score and testing f1-score, is there evidence of overfitting in any of your models? Which ones?"
   ]
  },
  {
   "cell_type": "markdown",
   "metadata": {
    "collapsed": true
   },
   "source": [
    "The Knn model shows clear signs of overfitting"
   ]
  },
  {
   "cell_type": "markdown",
   "metadata": {},
   "source": [
    "##### 26. Based on everything we've covered so far, if you had to pick just one model as your final model to use to answer the problem in front of you, which one model would you pick? Defend your choice."
   ]
  },
  {
   "cell_type": "markdown",
   "metadata": {
    "collapsed": true
   },
   "source": [
    "I would pick the bag of trees model, since they are tied at first spot in terms of f-1 score and because they can be easily interpretted."
   ]
  },
  {
   "cell_type": "markdown",
   "metadata": {},
   "source": [
    "##### 27. Suppose you wanted to improve the performance of your final model. Brainstorm 2-3 things that, if you had more time, you would attempt."
   ]
  },
  {
   "cell_type": "markdown",
   "metadata": {
    "collapsed": true
   },
   "source": [
    "1. Tweak Parameters\n",
    "2. Increase trees\n",
    "3. Run Gridsearch, check ROC"
   ]
  },
  {
   "cell_type": "markdown",
   "metadata": {},
   "source": [
    "## Step 6: Answer the problem.\n",
    "\n",
    "##### BONUS: Briefly summarize your answers to the regression and classification problems. Be sure to include any limitations or hesitations in your answer.\n",
    "\n",
    "- Regression: What features best predict one's income?\n",
    "- Classification: Predict whether or not one is eligible for a 401k."
   ]
  },
  {
   "cell_type": "markdown",
   "metadata": {
    "collapsed": true
   },
   "source": [
    "1. Net Financial assets, and marital status are the two best features that predict one's income\n",
    "2. We can predict whether or not one is eligible for a 401k 69% of the time."
   ]
  }
 ],
 "metadata": {
  "kernelspec": {
   "display_name": "Python 3",
   "language": "python",
   "name": "python3"
  },
  "language_info": {
   "codemirror_mode": {
    "name": "ipython",
    "version": 3
   },
   "file_extension": ".py",
   "mimetype": "text/x-python",
   "name": "python",
   "nbconvert_exporter": "python",
   "pygments_lexer": "ipython3",
   "version": "3.7.3"
  }
 },
 "nbformat": 4,
 "nbformat_minor": 2
}
